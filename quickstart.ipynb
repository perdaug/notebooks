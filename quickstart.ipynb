{
 "cells": [
  {
   "cell_type": "markdown",
   "metadata": {},
   "source": [
    "# Quickstart\n",
    "\n",
    "First ensure you have [installed](http://elfi.readthedocs.io/en/stable/installation.html) Python 3.5 (or greater) and ELFI. After installation you can start using ELFI:"
   ]
  },
  {
   "cell_type": "code",
   "execution_count": 1,
   "metadata": {
    "collapsed": false
   },
   "outputs": [],
   "source": [
    "%load_ext autoreload\n",
    "%autoreload 2\n",
    "import elfi"
   ]
  },
  {
   "cell_type": "markdown",
   "metadata": {},
   "source": [
    "ELFI includes an easy to use generative modeling syntax, where the generative model is specified as a directed acyclic graph (DAG). Let’s create two prior nodes:"
   ]
  },
  {
   "cell_type": "code",
   "execution_count": 2,
   "metadata": {
    "collapsed": true
   },
   "outputs": [],
   "source": [
    "mu = elfi.Prior('uniform', -2, 4)\n",
    "sigma = elfi.Prior('uniform', 1, 4)"
   ]
  },
  {
   "cell_type": "markdown",
   "metadata": {},
   "source": [
    "The above would create two prior nodes, a uniform distribution from -2 to 2 for the mean `mu` and another uniform distribution from 1 to 5 for the standard deviation `sigma`. All distributions from `scipy.stats` are available.\n",
    "\n",
    "For likelihood-free models we typically need to define a simulator and summary statistics for the data. As an example, lets define the simulator as 30 draws from a Gaussian distribution with a given mean and standard deviation. Let's use mean and variance as our summaries:"
   ]
  },
  {
   "cell_type": "code",
   "execution_count": 3,
   "metadata": {
    "collapsed": false
   },
   "outputs": [],
   "source": [
    "import scipy.stats as ss\n",
    "import numpy as np\n",
    "\n",
    "def simulator(mu, sigma, batch_size=1, random_state=None):\n",
    "    mu, sigma = np.atleast_1d(mu, sigma)\n",
    "    res = ss.norm.rvs(mu[:, None], sigma[:, None], size=(batch_size, 5), random_state=random_state)\n",
    "#     print(res)\n",
    "    return res\n",
    "\n",
    "def mean(y):\n",
    "    return np.mean(y, axis=1)\n",
    "\n",
    "def var(y):\n",
    "    return np.var(y, axis=1)"
   ]
  },
  {
   "cell_type": "markdown",
   "metadata": {},
   "source": [
    "Let’s now assume we have some observed data `y0` (here we just create some with the simulator):"
   ]
  },
  {
   "cell_type": "code",
   "execution_count": 4,
   "metadata": {
    "collapsed": false
   },
   "outputs": [],
   "source": [
    "# Set the generating parameters that we will try to infer\n",
    "mean0 = 1\n",
    "std0 = 3\n",
    "\n",
    "# Generate some data (using a fixed seed here)\n",
    "np.random.seed(20170525) \n",
    "y0 = simulator(mean0, std0)\n",
    "# print(y0)"
   ]
  },
  {
   "cell_type": "markdown",
   "metadata": {},
   "source": [
    "Now we have all the components needed. Let’s complete our model by adding the simulator, the observed data, summaries and a distance to our model:"
   ]
  },
  {
   "cell_type": "code",
   "execution_count": 5,
   "metadata": {
    "collapsed": true
   },
   "outputs": [],
   "source": [
    "# Add the simulator node and observed data to the model\n",
    "sim = elfi.Simulator(simulator, mu, sigma, observed=y0)\n",
    "\n",
    "# Add summary statistics to the model\n",
    "S1 = elfi.Summary(mean, sim)\n",
    "S2 = elfi.Summary(var, sim)\n",
    "\n",
    "# Specify distance as euclidean between summary vectors (S1, S2) from simulated and\n",
    "# observed data\n",
    "d = elfi.Distance('euclidean', S1, S2)"
   ]
  },
  {
   "cell_type": "markdown",
   "metadata": {},
   "source": [
    "If you have `graphviz` installed to your system, you can also visualize the model:"
   ]
  },
  {
   "cell_type": "code",
   "execution_count": 6,
   "metadata": {
    "collapsed": false
   },
   "outputs": [],
   "source": [
    "# Plot the complete model (requires graphviz)\n",
    "# elfi.draw(d)"
   ]
  },
  {
   "cell_type": "raw",
   "metadata": {},
   "source": [
    ".. Note:: The automatic naming of nodes may not work in all environments e.g. in interactive Python shells. You can alternatively provide a name argument for the nodes, e.g. ``S1 = elfi.Summary(mean, sim, name='S1')``."
   ]
  },
  {
   "cell_type": "markdown",
   "metadata": {},
   "source": [
    "We can try to infer the true generating parameters `mean0` and `std0` above with any of ELFI’s inference methods. Let’s use ABC Rejection sampling and sample 1000 samples from the approximate posterior using threshold value 0.5:"
   ]
  },
  {
   "cell_type": "code",
   "execution_count": 7,
   "metadata": {
    "collapsed": false
   },
   "outputs": [],
   "source": [
    "import logging\n",
    "logging.basicConfig(level=logging.INFO)"
   ]
  },
  {
   "cell_type": "code",
   "execution_count": 8,
   "metadata": {
    "collapsed": false,
    "scrolled": false
   },
   "outputs": [
    {
     "name": "stderr",
     "output_type": "stream",
     "text": [
      "INFO:elfi.methods.parameter_inference:Submitting batch 0\n",
      "INFO:elfi.methods.parameter_inference:{'d': array([ 3.86207825]), 'mu': array([-1.72990121]), 'sigma': array([ 1.18611568])}\n",
      "INFO:elfi.methods.parameter_inference:Submitting batch 1\n",
      "INFO:elfi.methods.parameter_inference:{'d': array([ 7.98150327]), 'mu': array([-0.75308713]), 'sigma': array([ 3.85439944])}\n",
      "INFO:elfi.methods.parameter_inference:Submitting batch 2\n",
      "INFO:elfi.methods.parameter_inference:{'d': array([ 27.97657017]), 'mu': array([-0.75530055]), 'sigma': array([ 4.67184471])}\n",
      "INFO:elfi.methods.parameter_inference:Submitting batch 3\n",
      "INFO:elfi.methods.parameter_inference:{'d': array([ 13.32199351]), 'mu': array([-1.09842533]), 'sigma': array([ 3.43857164])}\n",
      "INFO:elfi.methods.parameter_inference:Submitting batch 4\n",
      "INFO:elfi.methods.parameter_inference:{'d': array([ 1.72094821]), 'mu': array([ 1.2628132]), 'sigma': array([ 3.50565518])}\n"
     ]
    },
    {
     "name": "stdout",
     "output_type": "stream",
     "text": [
      "----------\n",
      "<elfi.clients.native.Client object at 0x104387198>\n",
      "+++++\n",
      "10\n",
      "=====\n",
      "+++++\n",
      "10\n",
      "=====\n",
      "None\n",
      "+++++\n",
      "4\n",
      "=====\n",
      "+++++\n",
      "4\n",
      "=====\n",
      "None\n",
      "+++++\n",
      "4\n",
      "=====\n",
      "+++++\n",
      "4\n",
      "=====\n",
      "None\n",
      "+++++\n",
      "5\n",
      "=====\n",
      "+++++\n",
      "5\n",
      "=====\n",
      "None\n",
      "+++++\n",
      "7\n",
      "=====\n",
      "+++++\n",
      "7\n",
      "=====\n",
      "None\n",
      "+++++\n",
      "5\n",
      "=====\n"
     ]
    }
   ],
   "source": [
    "rej = elfi.Rejection(d, batch_size=1, seed=30052017)\n",
    "res = rej.sample(3, threshold=10, n_sim=10)\n",
    "# print(res)"
   ]
  },
  {
   "cell_type": "markdown",
   "metadata": {},
   "source": [
    "Let's plot also the marginal distributions for the parameters:"
   ]
  },
  {
   "cell_type": "code",
   "execution_count": 9,
   "metadata": {
    "collapsed": false
   },
   "outputs": [
    {
     "data": {
      "text/plain": [
       "array([<matplotlib.axes._subplots.AxesSubplot object at 0x10883f630>,\n",
       "       <matplotlib.axes._subplots.AxesSubplot object at 0x1088e4a20>], dtype=object)"
      ]
     },
     "execution_count": 9,
     "metadata": {},
     "output_type": "execute_result"
    }
   ],
   "source": [
    "import matplotlib.pyplot as plt\n",
    "res.plot_marginals()\n",
    "# plt.show()"
   ]
  }
 ],
 "metadata": {
  "kernelspec": {
   "display_name": "Python 3",
   "language": "python",
   "name": "python3"
  },
  "language_info": {
   "codemirror_mode": {
    "name": "ipython",
    "version": 3
   },
   "file_extension": ".py",
   "mimetype": "text/x-python",
   "name": "python",
   "nbconvert_exporter": "python",
   "pygments_lexer": "ipython3",
   "version": "3.6.2"
  }
 },
 "nbformat": 4,
 "nbformat_minor": 1
}
