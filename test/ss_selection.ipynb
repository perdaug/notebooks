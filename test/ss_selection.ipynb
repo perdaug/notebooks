{
 "cells": [
  {
   "cell_type": "markdown",
   "metadata": {},
   "source": [
    "## Diagnostics"
   ]
  },
  {
   "cell_type": "code",
   "execution_count": 1,
   "metadata": {
    "collapsed": false
   },
   "outputs": [],
   "source": [
    "%load_ext autoreload\n",
    "%autoreload 2\n",
    "\n",
    "import numpy as np\n",
    "import scipy.stats as ss\n",
    "\n",
    "import elfi\n",
    "\n",
    "import logging\n",
    "logging.basicConfig(level=logging.INFO)\n",
    "\n",
    "seed = 37"
   ]
  },
  {
   "cell_type": "markdown",
   "metadata": {},
   "source": [
    "### Summary-statistics Selection"
   ]
  },
  {
   "cell_type": "markdown",
   "metadata": {},
   "source": [
    "ELFI implements the Two-Stage Procedure proposed by Nunes & Balding (2010). An example of the Two-Stage Procedure's execution is shown in the following code."
   ]
  },
  {
   "cell_type": "markdown",
   "metadata": {},
   "source": [
    "For the example, we define a Gaussian-noise model and three summary statistics, one of which is uninformative."
   ]
  },
  {
   "cell_type": "code",
   "execution_count": 2,
   "metadata": {
    "collapsed": false
   },
   "outputs": [],
   "source": [
    "def fn_simulator(mu, sigma, batch_size=1, random_state=None):\n",
    "    mu, sigma = np.atleast_1d(mu, sigma)\n",
    "    res = ss.norm.rvs(mu[:, None], sigma[:, None], size=(batch_size, 5), random_state=random_state)\n",
    "    return res\n",
    "\n",
    "def mean(y):\n",
    "    return np.mean(y, axis=1)\n",
    "\n",
    "def var(y):\n",
    "    return np.var(y, axis=1)\n",
    "\n",
    "def uninformative(y):\n",
    "    return 1"
   ]
  },
  {
   "cell_type": "markdown",
   "metadata": {},
   "source": [
    "To carry the Two-Stage procedure, Elfi requires to initialise a list of the assessed summary statistics and a simulator with the observations."
   ]
  },
  {
   "cell_type": "code",
   "execution_count": 3,
   "metadata": {
    "collapsed": false
   },
   "outputs": [],
   "source": [
    "mean_obs = 1\n",
    "std_obs = 3\n",
    "\n",
    "# Obtain the observations.\n",
    "y_obs = fn_simulator(mean_obs, std_obs, random_state=np.random.RandomState(seed))\n",
    "\n",
    "prior_mu = elfi.Prior('uniform', -2, 4, name='mu')\n",
    "prior_sigma = elfi.Prior('uniform', 1, 4, name='sigma')\n",
    "\n",
    "# Initialise the simulator.\n",
    "simulator = elfi.Simulator(fn_simulator, prior_mu, prior_sigma, observed=y_obs)\n",
    "\n",
    "# Initialise the list of summary statistics.\n",
    "list_ss = [mean, var, uninformative]"
   ]
  },
  {
   "cell_type": "markdown",
   "metadata": {
    "collapsed": false
   },
   "source": [
    "Now, we are ready to initialise the Two-Stage Selection. Note that we can choose a distance metric based on which the summary statistics will be evaluated."
   ]
  },
  {
   "cell_type": "code",
   "execution_count": 4,
   "metadata": {
    "collapsed": false
   },
   "outputs": [],
   "source": [
    "from elfi.methods.diagnostics import TwoStageSelection\n",
    "\n",
    "diagnostics = TwoStageSelection(list_ss, simulator, 'euclidean', seed)"
   ]
  },
  {
   "cell_type": "markdown",
   "metadata": {},
   "source": [
    "In this Two-Stage procedure's implementation, we can choose the number of simulations `n_sim` obtained for every assessed summary-statistics combination and the number of such accepted simulations `n_acc`.\n",
    "\n",
    "Note that the rationale of the Two-Stage procedure is based on finding the combination with the minimum entropy (Stage 1) and then finding the collection which shows the minimum mean sum of squared error (MRRSE) based on the parameters corresponding to the `n_closest` datasets of the minimum-entropy combination (Stage 2)."
   ]
  },
  {
   "cell_type": "code",
   "execution_count": 5,
   "metadata": {
    "collapsed": false
   },
   "outputs": [
    {
     "name": "stderr",
     "output_type": "stream",
     "text": [
      "INFO:elfi.methods.diagnostics:Combination ['mean'] shows the entropy of 2.276587\n",
      "INFO:elfi.methods.diagnostics:Combination ['var'] shows the entropy of 2.331251\n",
      "INFO:elfi.methods.diagnostics:Combination ['uninformative'] shows the entropy of 2.390263\n",
      "INFO:elfi.methods.diagnostics:Combination ['mean', 'var'] shows the entropy of 2.183706\n",
      "INFO:elfi.methods.diagnostics:Combination ['mean', 'uninformative'] shows the entropy of 2.276587\n",
      "INFO:elfi.methods.diagnostics:Combination ['var', 'uninformative'] shows the entropy of 2.331251\n",
      "INFO:elfi.methods.diagnostics:Combination ['mean', 'var', 'uninformative'] shows the entropy of 2.183706\n",
      "INFO:elfi.methods.diagnostics:\n",
      "The minimum entropy of 2.183706 was found in ['mean', 'var'].\n",
      "\n",
      "INFO:elfi.methods.diagnostics:Combination ['mean'] shows the MRSSE of 17.146237\n",
      "INFO:elfi.methods.diagnostics:Combination ['var'] shows the MRSSE of 18.754292\n",
      "INFO:elfi.methods.diagnostics:Combination ['uninformative'] shows the MRSSE of 18.906968\n",
      "INFO:elfi.methods.diagnostics:Combination ['mean', 'var'] shows the MRSSE of 16.843180\n",
      "INFO:elfi.methods.diagnostics:Combination ['mean', 'uninformative'] shows the MRSSE of 17.146237\n",
      "INFO:elfi.methods.diagnostics:Combination ['var', 'uninformative'] shows the MRSSE of 18.754292\n",
      "INFO:elfi.methods.diagnostics:Combination ['mean', 'var', 'uninformative'] shows the MRSSE of 16.843180\n",
      "INFO:elfi.methods.diagnostics:\n",
      "The minimum MRSSE of 16.843180 was found in ['mean', 'var'].\n"
     ]
    },
    {
     "data": {
      "text/plain": [
       "(<function __main__.mean>, <function __main__.var>)"
      ]
     },
     "execution_count": 5,
     "metadata": {},
     "output_type": "execute_result"
    }
   ],
   "source": [
    "diagnostics.run(k=4, n_sim=1000, n_acc=100, n_closest=20)"
   ]
  },
  {
   "cell_type": "code",
   "execution_count": null,
   "metadata": {
    "collapsed": true
   },
   "outputs": [],
   "source": []
  }
 ],
 "metadata": {
  "kernelspec": {
   "display_name": "elfi",
   "language": "python",
   "name": "elfi"
  },
  "language_info": {
   "codemirror_mode": {
    "name": "ipython",
    "version": 3
   },
   "file_extension": ".py",
   "mimetype": "text/x-python",
   "name": "python",
   "nbconvert_exporter": "python",
   "pygments_lexer": "ipython3",
   "version": "3.6.2"
  }
 },
 "nbformat": 4,
 "nbformat_minor": 2
}
